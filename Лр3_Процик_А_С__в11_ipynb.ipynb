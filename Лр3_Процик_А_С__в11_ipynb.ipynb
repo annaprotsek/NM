{
  "nbformat": 4,
  "nbformat_minor": 0,
  "metadata": {
    "colab": {
      "provenance": [],
      "include_colab_link": true
    },
    "kernelspec": {
      "name": "python3",
      "display_name": "Python 3"
    },
    "language_info": {
      "name": "python"
    }
  },
  "cells": [
    {
      "cell_type": "markdown",
      "metadata": {
        "id": "view-in-github",
        "colab_type": "text"
      },
      "source": [
        "<a href=\"https://colab.research.google.com/github/annaprotsek/NM/blob/main/%D0%9B%D1%803_%D0%9F%D1%80%D0%BE%D1%86%D0%B8%D0%BA_%D0%90_%D0%A1__%D0%B211_ipynb.ipynb\" target=\"_parent\"><img src=\"https://colab.research.google.com/assets/colab-badge.svg\" alt=\"Open In Colab\"/></a>"
      ]
    },
    {
      "cell_type": "markdown",
      "source": [
        "Процик Анна. Варіант 11"
      ],
      "metadata": {
        "id": "HlvFbYQzhdIu"
      }
    },
    {
      "cell_type": "markdown",
      "source": [
        "1. Метод ділення навпіл."
      ],
      "metadata": {
        "id": "VgrW9zRY0dVt"
      }
    },
    {
      "cell_type": "code",
      "execution_count": null,
      "metadata": {
        "colab": {
          "base_uri": "https://localhost:8080/"
        },
        "id": "iOTNXySVyeHy",
        "outputId": "f7bd038c-eca4-475d-e250-6fa7268b5bd1"
      },
      "outputs": [
        {
          "output_type": "stream",
          "name": "stdout",
          "text": [
            "Результати обчислень\n",
            "\n",
            "          a      F(a)         c      F(c)       b      F(b)\n",
            "0 -3.000000  0.977954 -2.000000  1.135204 -1.0000 -0.454649\n",
            "1 -2.000000  1.135204 -1.500000 -0.123480 -1.0000 -0.454649\n",
            "2 -2.000000  1.135204 -1.750000  0.405593 -1.5000 -0.123480\n",
            "3 -1.750000  0.405593 -1.625000  0.109040 -1.5000 -0.123480\n",
            "4 -1.625000  0.109040 -1.562500 -0.015587 -1.5000 -0.123480\n",
            "5 -1.625000  0.109040 -1.593750  0.044659 -1.5625 -0.015587\n",
            "6 -1.593750  0.044659 -1.578125  0.014015 -1.5625 -0.015587\n",
            "7 -1.578125  0.014015 -1.570312 -0.000917 -1.5625 -0.015587\n",
            "\n",
            "В точці с =  -1.5703125 , f(c) =  -0.0009171268569415665\n"
          ]
        }
      ],
      "source": [
        "import numpy as np\n",
        "import pandas as pd\n",
        "\n",
        "# Визначаємо функцію\n",
        "def f (x):\n",
        "    y = np.cos(x)*np.sin(x)*(x**2+x+1)\n",
        "    return y\n",
        "# Визначаємо границі відрізку\n",
        "a, b = -3, -1\n",
        "# Визначаємо точність розв'язку\n",
        "eps = 0.001\n",
        "# Поділяємо відрізок навпіл\n",
        "c = (a+b)/2\n",
        "# Зберігаємо результати обчислень\n",
        "data_A = [a]\n",
        "data_B = [b]\n",
        "data_C = [c]\n",
        "data_F_A = [f(a)]\n",
        "data_F_B = [f(b)]\n",
        "data_F_C = [f(c)]\n",
        "# Перевіряємо досягнення точності\n",
        "while np.abs(f(c)) > eps:\n",
        "    # Звужуємо відрізок\n",
        "    if np.sign(f(c)) == np.sign(f(a)):\n",
        "        a = c\n",
        "    else:\n",
        "        b = c\n",
        "    # Поділяємо відрізок навпіл\n",
        "    c = (a+b)/2\n",
        "    # Зберігаємо результати обчислень\n",
        "    data_A.append(a)\n",
        "    data_B.append(b)\n",
        "    data_C.append(c)\n",
        "    data_F_A.append(f(a))\n",
        "    data_F_B.append(f(b))\n",
        "    data_F_C.append(f(c))\n",
        "# Відображаємо результати обчислень\n",
        "print('Результати обчислень')\n",
        "print()\n",
        "data = pd.DataFrame({'a': data_A,\n",
        "                     'F(a)': data_F_A,\n",
        "                     'c': data_C,\n",
        "                     'F(c)': data_F_C,\n",
        "                     'b': data_B,\n",
        "                     'F(b)': data_F_B})\n",
        "print(data)\n",
        "# Відображаємо наближений корінь рівняння\n",
        "print()\n",
        "print('В точці с = ', c, ', f(c) = ', f(c))"
      ]
    },
    {
      "cell_type": "markdown",
      "source": [
        "2. Метод ділення навпіл"
      ],
      "metadata": {
        "id": "5hYa7ucn0PEN"
      }
    },
    {
      "cell_type": "code",
      "source": [
        "import numpy as np\n",
        "import scipy.optimize as sp\n",
        "\n",
        "def f(x):\n",
        "    y = np.cos(x)*np.sin(x)*(x**2+x+1)\n",
        "    return y\n",
        "\n",
        "a, b = -3, -1\n",
        "eps = 1.e-3\n",
        "\n",
        "x = sp.bisect(f, a, b,(),eps) #функція для метода\n",
        "\n",
        "print('The approximate solution x is:', x)\n",
        "print('And the value f(x) is:', f(x))"
      ],
      "metadata": {
        "colab": {
          "base_uri": "https://localhost:8080/"
        },
        "id": "ML3KEw5q0H1e",
        "outputId": "4f5d5db9-365c-4758-d72e-653d62c58579"
      },
      "execution_count": null,
      "outputs": [
        {
          "output_type": "stream",
          "name": "stdout",
          "text": [
            "The approximate solution x is: -1.5712890625\n",
            "And the value f(x) is: 0.0009350448126615916\n"
          ]
        }
      ]
    },
    {
      "cell_type": "markdown",
      "source": [
        "3. Метод хорд"
      ],
      "metadata": {
        "id": "sYf0IvR41ufd"
      }
    },
    {
      "cell_type": "code",
      "source": [
        "import numpy as np\n",
        "import pandas as pd\n",
        "# Визначаємо функцію\n",
        "def f(x):\n",
        "    y = np.cos(x)*np.sin(x)*(x**2+x+1)\n",
        "    return y\n",
        "# Визначаємо межі відрізку\n",
        "a, b = -3, -1\n",
        "# Визначаємо точність розв'язку\n",
        "eps = 0.001\n",
        "# Точка, де хорда перетинає вісь 0x\n",
        "c = (f(a)*b-a*f(b))/(f(a)-f(b))\n",
        "\n",
        "# Зберігаємо результати обчислень\n",
        "data_A = [a]\n",
        "data_B = [b]\n",
        "data_C = [c]\n",
        "data_F_A = [f(a)]\n",
        "data_F_B = [f(b)]\n",
        "data_F_C = [f(c)]\n",
        "# Перевіряємо досягнення точності\n",
        "while np.abs(f(c)) > eps:\n",
        "    # Звужуємо відрізок\n",
        "    if np.sign(f(c)) == np.sign(f(a)):\n",
        "        a = c\n",
        "    else:\n",
        "        b = c\n",
        "    # Точка, де хорда перетинає вісь 0x\n",
        "    c = (f(a)*b-a*f(b))/(f(a)-f(b))\n",
        "    # Зберігаємо результати обчислень\n",
        "    data_A.append(a)\n",
        "    data_B.append(b)\n",
        "    data_C.append(c)\n",
        "    data_F_A.append(f(a))\n",
        "    data_F_B.append(f(b))\n",
        "    data_F_C.append(f(c))\n",
        "# Відображаємо результати обчислень\n",
        "print('Результати обчислень')\n",
        "print()\n",
        "data = pd.DataFrame({'a': data_A, 'F(a)': data_F_A,\n",
        "                     'c': data_C, 'F(c)': data_F_C,\n",
        "                     'b': data_B, 'F(b)': data_F_B})\n",
        "print(data)\n",
        "# Відображаємо наближений корінь рівняння\n",
        "print()\n",
        "print('В точці с = ', c, ', f(c) = ', f(c))"
      ],
      "metadata": {
        "colab": {
          "base_uri": "https://localhost:8080/"
        },
        "id": "3p6i5xHK1y3l",
        "outputId": "c3cf4815-2750-4472-bec8-a6848856ce2b"
      },
      "execution_count": null,
      "outputs": [
        {
          "output_type": "stream",
          "name": "stdout",
          "text": [
            "Результати обчислень\n",
            "\n",
            "          a      F(a)         c      F(c)         b      F(b)\n",
            "0 -3.000000  0.977954 -1.634717  0.129889 -1.000000 -0.454649\n",
            "1 -1.634717  0.129889 -1.493678 -0.133455 -1.000000 -0.454649\n",
            "2 -1.634717  0.129889 -1.565152 -0.010636 -1.493678 -0.133455\n",
            "3 -1.634717  0.129889 -1.570418 -0.000718 -1.565152 -0.010636\n",
            "\n",
            "В точці с =  -1.5704175737258015 , f(c) =  -0.0007180376446871882\n"
          ]
        }
      ]
    },
    {
      "cell_type": "markdown",
      "source": [
        "4. Метод Ньютона (дотичних)"
      ],
      "metadata": {
        "id": "40blPBSK2Cdm"
      }
    },
    {
      "cell_type": "code",
      "source": [
        "import numpy as np\n",
        "import pandas as pd\n",
        "# Визначаємо функцію\n",
        "def f(x):\n",
        "    y = np.cos(x)*np.sin(x)*(x**2+x+1)\n",
        "    return y\n",
        "\n",
        "# Визначаємо межі відрізку\n",
        "a, b = -3, -1\n",
        "\n",
        "# Визначаємо першу похідну\n",
        "def df(x):\n",
        "    y1 = -(x**2+x+1)*(np.sin(x))**2\n",
        "    y2 = (x**2+x+1)*(np.cos(x))**2\n",
        "    y3 = (2*x+1)*np.sin(x)*np.cos(x)\n",
        "    y = y1+y2+y3\n",
        "    return y\n",
        "# Визначаємо початкову точку\n",
        "c = -1.4\n",
        "# Визначаємо точність розв'язку\n",
        "eps = 0.001\n",
        "\n",
        "# Зберігаємо результати обчислень\n",
        "data_C = [c]\n",
        "data_F_C = [f(c)]\n",
        "\n",
        "# Перевіряємо досягнення точності\n",
        "while np.abs(f(c)) > eps:\n",
        "    # Точка, де дотична перетинає вісь 0x\n",
        "    c -= f(c)/df(c)\n",
        "    # Зберігаємо результати обчислень\n",
        "    data_C.append(c)\n",
        "    data_F_C.append(f(c))\n",
        "# Відображаємо результати обчислень\n",
        "print('Результати обчислень')\n",
        "print()\n",
        "data = pd.DataFrame({'c': data_C, 'F(c)': data_F_C})\n",
        "print(data)\n",
        "# Відображаємо наближений корінь рівняння\n",
        "print()\n",
        "print('В точці с = ', c, ', f(c) = ', f(c))"
      ],
      "metadata": {
        "colab": {
          "base_uri": "https://localhost:8080/"
        },
        "id": "WeGQjbjW2HDz",
        "outputId": "adadde01-cef9-405a-b3a7-4595f4dc0046"
      },
      "execution_count": null,
      "outputs": [
        {
          "output_type": "stream",
          "name": "stdout",
          "text": [
            "Результати обчислень\n",
            "\n",
            "          c      F(c)\n",
            "0 -1.400000 -0.261291\n",
            "1 -1.623636  0.106144\n",
            "2 -1.573564  0.005266\n",
            "3 -1.570805  0.000016\n",
            "\n",
            "В точці с =  -1.5708049170979717 , f(c) =  1.6292567852764437e-05\n"
          ]
        }
      ]
    },
    {
      "cell_type": "markdown",
      "source": [
        "5. Метод Ньютона (дотичних)"
      ],
      "metadata": {
        "id": "qjI38bTp0xCo"
      }
    },
    {
      "cell_type": "code",
      "source": [
        "import numpy as np\n",
        "import scipy.optimize as sp\n",
        "\n",
        "def f(x):\n",
        "    y = np.cos(x)*np.sin(x)*(x**2+x+1)\n",
        "    return y\n",
        "\n",
        "def df(x):# Обчислення похідної\n",
        "    y1 = -(x**2+x+1)*(np.sin(x))**2\n",
        "    y2 = (x**2+x+1)*(np.cos(x))**2\n",
        "    y3 = (2*x+1)*np.sin(x)*np.cos(x)\n",
        "    y = y1+y2+y3\n",
        "    return y\n",
        "\n",
        "x0, x1, x2, x3, x4 = -1.4, 1.4, -3.2, 3.2, 0.5\n",
        "\n",
        "x_0 = sp.newton(f, x0, df, tol=1.e-3, maxiter=50)\n",
        "x_1 = sp.newton(f, x1, df, tol=1.e-3, maxiter=50)\n",
        "\n",
        "x_2 = sp.newton(f, x2, df, tol=1.e-3, maxiter=50)\n",
        "x_3 = sp.newton(f, x3, df, tol=1.e-3, maxiter=50)\n",
        "\n",
        "x_4 = sp.newton(f, x4, df, tol=1.e-3, maxiter=50)\n"
      ],
      "metadata": {
        "id": "AonZxq_H0m6-"
      },
      "execution_count": null,
      "outputs": []
    },
    {
      "cell_type": "code",
      "source": [
        "print('The approximate solution x_0 is:', x_0)\n",
        "print('And the value f(x_0) is:', f(x_0))\n",
        "\n",
        "print('The approximate solution x_1 is:', x_1)\n",
        "print('And the value f(x_0) is:', f(x_1))\n",
        "\n",
        "print('The approximate solution x_2 is:', x_2)\n",
        "print('And the value f(x_0) is:', f(x_2))\n",
        "\n",
        "print('The approximate solution x_3 is:', x_3)\n",
        "print('And the value f(x_0) is:', f(x_3))\n",
        "\n",
        "print('The approximate solution x_4 is:', x_4)\n",
        "print('And the value f(x_0) is:', f(x_4))"
      ],
      "metadata": {
        "colab": {
          "base_uri": "https://localhost:8080/"
        },
        "id": "Zz1InQ94Bd_C",
        "outputId": "6ba59233-5c6f-419b-d5b5-1c56455c65bb"
      },
      "execution_count": null,
      "outputs": [
        {
          "output_type": "stream",
          "name": "stdout",
          "text": [
            "The approximate solution x_0 is: -1.5707963268782201\n",
            "And the value f(x_0) is: 1.5803176499052036e-10\n",
            "The approximate solution x_1 is: 1.5707963267958693\n",
            "And the value f(x_0) is: -4.9007361645997675e-12\n",
            "The approximate solution x_2 is: -3.1415926535944303\n",
            "And the value f(x_0) is: -3.5835231468970716e-11\n",
            "The approximate solution x_3 is: 3.1415926535904006\n",
            "And the value f(x_0) is: 8.510283038202437e-12\n",
            "The approximate solution x_4 is: 2.127875903690929e-09\n",
            "And the value f(x_0) is: 2.127875908218785e-09\n"
          ]
        }
      ]
    },
    {
      "cell_type": "markdown",
      "source": [
        " # Знаходження коренів рівняння за допомогою бібліотеки SymPy"
      ],
      "metadata": {
        "id": "pvK9N9TH1QD-"
      }
    },
    {
      "cell_type": "code",
      "source": [
        "import sympy as sym\n",
        "\n",
        "x = sym.Symbol('x')\n",
        "\n",
        "y = sym.cos(x)*sym.sin(x)*(x**2+x+1)\n",
        "\n",
        "s = sym.solve(y, x)\n",
        "\n",
        "print(s)"
      ],
      "metadata": {
        "colab": {
          "base_uri": "https://localhost:8080/"
        },
        "id": "PuAp1WCr08qt",
        "outputId": "faa15852-780e-4ab0-e470-253b4c4f6d74"
      },
      "execution_count": 1,
      "outputs": [
        {
          "output_type": "stream",
          "name": "stdout",
          "text": [
            "[0, pi/2, pi, 3*pi/2, -1/2 - sqrt(3)*I/2, -1/2 + sqrt(3)*I/2]\n"
          ]
        }
      ]
    },
    {
      "cell_type": "code",
      "source": [
        "import sympy as sym\n",
        "\n",
        "x, a, b, c = sym.symbols('x, a, b, c')\n",
        "\n",
        "y = a * x**2 + b * x + c\n",
        "\n",
        "s = sym.solve(y, x)\n",
        "\n",
        "print(s)"
      ],
      "metadata": {
        "colab": {
          "base_uri": "https://localhost:8080/"
        },
        "id": "Y0d-uHtp1c7r",
        "outputId": "9947180c-54f2-4de2-fd79-b7e0517c8db4"
      },
      "execution_count": 2,
      "outputs": [
        {
          "output_type": "stream",
          "name": "stdout",
          "text": [
            "[(-b - sqrt(-4*a*c + b**2))/(2*a), (-b + sqrt(-4*a*c + b**2))/(2*a)]\n"
          ]
        }
      ]
    },
    {
      "cell_type": "code",
      "source": [
        "!pip install numdifftools"
      ],
      "metadata": {
        "colab": {
          "base_uri": "https://localhost:8080/"
        },
        "id": "yiLJNuM3Cq0-",
        "outputId": "71c554f1-697b-4363-c8f6-6725bbf68b50"
      },
      "execution_count": 3,
      "outputs": [
        {
          "output_type": "stream",
          "name": "stdout",
          "text": [
            "Collecting numdifftools\n",
            "  Downloading numdifftools-0.9.41-py2.py3-none-any.whl.metadata (39 kB)\n",
            "Requirement already satisfied: numpy>=1.9 in /usr/local/lib/python3.12/dist-packages (from numdifftools) (2.0.2)\n",
            "Requirement already satisfied: scipy>=0.8 in /usr/local/lib/python3.12/dist-packages (from numdifftools) (1.16.2)\n",
            "Downloading numdifftools-0.9.41-py2.py3-none-any.whl (100 kB)\n",
            "\u001b[2K   \u001b[90m━━━━━━━━━━━━━━━━━━━━━━━━━━━━━━━━━━━━━━━━\u001b[0m \u001b[32m100.2/100.2 kB\u001b[0m \u001b[31m2.7 MB/s\u001b[0m eta \u001b[36m0:00:00\u001b[0m\n",
            "\u001b[?25hInstalling collected packages: numdifftools\n",
            "Successfully installed numdifftools-0.9.41\n"
          ]
        }
      ]
    },
    {
      "cell_type": "code",
      "source": [
        "#Лабораторна робота 2\n",
        "#Відокремлення коренів\n",
        "import numpy as np\n",
        "import numdifftools as nd\n",
        "\n",
        "def f(x):\n",
        "    return 3*x**4 + 2*x**3 + x**2 + x - 5\n",
        "\n",
        "\n",
        "def find_segments(): #відокремлюємо корені\n",
        "    search_range = np.arange(-5, 5, 1)\n",
        "\n",
        "    a = None\n",
        "    previous_x = None\n",
        "    current_x  = None\n",
        "    segments = []\n",
        "\n",
        "    for x in search_range:\n",
        "        x = round(x, 4)\n",
        "        current_x = f(x)\n",
        "        if previous_x != None and previous_x * current_x < 0:\n",
        "            segments.append((a, x))\n",
        "        a = x\n",
        "        previous_x = current_x\n",
        "    return segments\n",
        "\n",
        "segments = find_segments()\n",
        "for a, b in segments:\n",
        "    print(f'Found segment:  [{a}, {b}]')\n"
      ],
      "metadata": {
        "colab": {
          "base_uri": "https://localhost:8080/"
        },
        "id": "L-9dn4npCso-",
        "outputId": "19f544b0-7824-49b2-8a2d-7d57d54d58e6"
      },
      "execution_count": 4,
      "outputs": [
        {
          "output_type": "stream",
          "name": "stdout",
          "text": [
            "Found segment:  [-2, -1]\n",
            "Found segment:  [0, 1]\n"
          ]
        }
      ]
    },
    {
      "cell_type": "code",
      "source": [
        "import numpy as np\n",
        "import matplotlib.pyplot as plt\n",
        "\n",
        "# Визначення функції\n",
        "def f(x):\n",
        "    return 3*x**4 + 2*x**3 + x**2 + x - 5\n",
        "\n",
        "# Генерація значень x\n",
        "x = np.linspace(-3, 3, 100)\n",
        "\n",
        "# Генерація значень y\n",
        "y = f(x)\n",
        "\n",
        "# Побудова графіка\n",
        "plt.figure(figsize=(8, 6))\n",
        "plt.plot(x, y, label='3*x**4 + 2*x**3 + x**2 + x - 5', color='blue')\n",
        "plt.title('Графік функції 3*x**4 + 2*x**3 + x**2 + x - 5')\n",
        "plt.xlabel('x')\n",
        "plt.ylabel('f(x)')\n",
        "\n",
        "# Додавання осей з стрілками\n",
        "plt.axhline(0, color='black', linewidth=0.5)\n",
        "plt.axvline(0, color='black', linewidth=0.5)\n",
        "\n",
        "plt.text(2.05, -4, 'x', ha='center', va='center')\n",
        "plt.text(-0.3, 190, 'y', ha='center', va='center')\n",
        "\n",
        "plt.grid(True)\n",
        "plt.legend()\n",
        "plt.show()\n"
      ],
      "metadata": {
        "colab": {
          "base_uri": "https://localhost:8080/",
          "height": 564
        },
        "id": "7zUI3d1xZXar",
        "outputId": "f8d7238d-33cb-46a1-e825-12a219219c8b"
      },
      "execution_count": 5,
      "outputs": [
        {
          "output_type": "display_data",
          "data": {
            "text/plain": [
              "<Figure size 800x600 with 1 Axes>"
            ],
            "image/png": "[encoded data removed]"
          },
          "metadata": {}
        }
      ]
    },
    {
      "cell_type": "markdown",
      "source": [
        "![image.png](data:image/png;base64,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)\n"
      ],
      "metadata": {
        "id": "-4FfJGmLi6bZ"
      }
    },
    {
      "cell_type": "code",
      "source": [
        "#Лабораторна робота. Метод половинного ділення, хорд\n",
        "\n",
        "def rec(a, b, eps):  # метод половинного ділення\n",
        "    while (np.abs(a - b) > eps):\n",
        "        if f(a) * f((a + b) / 2) < 0:\n",
        "            b = (a + b) / 2\n",
        "        else:\n",
        "            a = (a + b) / 2\n",
        "        x = (a + b) / 2\n",
        "\n",
        "    print('x= ', round(x, 5), '  -   Half division method')\n"
      ],
      "metadata": {
        "id": "BgjK94O9Cfxe"
      },
      "execution_count": 6,
      "outputs": []
    },
    {
      "cell_type": "code",
      "source": [
        "def hord(a, b, eps):  # метод хорд\n",
        "    derivative_f = nd.Derivative(f, n=2)\n",
        "    if f(a) * derivative_f(a) > 0:\n",
        "        x0 = a\n",
        "        xi = b\n",
        "    else:\n",
        "        x0 = b\n",
        "        xi = a\n",
        "    xi_1 = xi - (xi - x0) * f(xi) / (f(xi) - f(x0))\n",
        "    while (np.abs(xi_1 - xi) > eps):\n",
        "        xi = xi_1\n",
        "        xi_1 = xi - (xi - x0) * f(xi) / (f(xi) - f(x0))\n",
        "    print('x= ', round(xi_1, 5), '  -   Chord method')\n"
      ],
      "metadata": {
        "id": "Sz_KWVf7D2tL"
      },
      "execution_count": 7,
      "outputs": []
    },
    {
      "cell_type": "code",
      "source": [
        "if __name__ == \"__main__\":\n",
        "    a1, b1 = -2, -1\n",
        "    a2, b2 = 0, 1\n",
        "    eps = 0.001\n",
        "    print(\"Розв'язки на відрізку [-2,-1]\")\n",
        "    rec(a1, b1, eps)\n",
        "    hord(a1, b1, eps)\n",
        "    print(\"\\n Розв'язки на відрізку [0,1]\")\n",
        "    rec(a2, b2, eps)\n",
        "    hord(a2, b2, eps)"
      ],
      "metadata": {
        "id": "upx7R4yoFZj_",
        "outputId": "d598c63d-c416-475d-cb48-03546cb06810",
        "colab": {
          "base_uri": "https://localhost:8080/"
        }
      },
      "execution_count": 8,
      "outputs": [
        {
          "output_type": "stream",
          "name": "stdout",
          "text": [
            "Розв'язки на відрізку [-2,-1]\n",
            "x=  -1.32373   -   Half division method\n",
            "x=  -1.32243   -   Chord method\n",
            "\n",
            " Розв'язки на відрізку [0,1]\n",
            "x=  0.89209   -   Half division method\n",
            "x=  0.89155   -   Chord method\n"
          ]
        }
      ]
    },
    {
      "cell_type": "code",
      "source": [
        "#Лабораторна робота 3. Метод Ньютона (дотичних). Комбінований метод\n",
        "\n",
        "import numpy as np\n",
        "import numdifftools as nd\n",
        "\n",
        "def f(x):\n",
        "    return 3*x**4 + 2*x**3 + x**2 + x - 5\n",
        "\n",
        "def nuton(a, b, eps, f):\n",
        "    df1 = nd.Derivative(f, n=1)   # створюємо callable для 1-ї похідної\n",
        "    df2 = nd.Derivative(f, n=2)   # і для 2-ї\n",
        "    xi = b if f(b) * df2(b) > 0 else a\n",
        "\n",
        "    xi_1 = xi - f(xi) / df1(xi)\n",
        "    while np.abs(xi_1 - xi) > eps:\n",
        "        xi = xi_1\n",
        "        d = df1(xi)\n",
        "        if d == 0:\n",
        "            raise ZeroDivisionError(\"Похідна дорівнює нулю — зупинка.\")\n",
        "        xi_1 = xi - f(xi) / d\n",
        "\n",
        "    print('Метод Ньютона, x =', round(float(xi_1), 4))"
      ],
      "metadata": {
        "id": "t-FUcU4Fj0-f"
      },
      "execution_count": 6,
      "outputs": []
    },
    {
      "cell_type": "code",
      "source": [
        "def komb(a, b, eps, f):\n",
        "    df2 = nd.Derivative(f, n=2)(a)\n",
        "    if f(a) * df2 > 0:\n",
        "        a0, b0 = a, b\n",
        "    else:\n",
        "        a0, b0 = b, a\n",
        "    ai, bi = a0, b0\n",
        "\n",
        "    while np.abs(ai - bi) > eps:\n",
        "        ai_1 = ai - f(ai) * (bi - ai) / (f(bi) - f(ai))\n",
        "        bi_1 = bi - f(bi) / nd.Derivative(f, n=1)(bi)\n",
        "        ai, bi = ai_1, bi_1\n",
        "\n",
        "    x = (ai_1 + bi_1) / 2\n",
        "\n",
        "    print('Комбінований метод, x = ', x.round(4))\n"
      ],
      "metadata": {
        "id": "M2T4FA4ifyy_"
      },
      "execution_count": 7,
      "outputs": []
    },
    {
      "cell_type": "code",
      "source": [
        "if __name__ == \"__main__\":\n",
        "    a1, b1 = -2, -1\n",
        "    a2, b2 = 0, 1\n",
        "    eps = 0.001\n",
        "\n",
        "    print(\"Розв'язання на відрізку [-2, -1]\")\n",
        "    nuton(a1, b1, eps, f)\n",
        "    komb(a1, b1, eps, f)\n",
        "    print(\"\\n Розв'язання на відрізку [0, 1]\")\n",
        "    nuton(a2, b2, eps, f)\n",
        "    komb(a2, b2, eps, f)"
      ],
      "metadata": {
        "colab": {
          "base_uri": "https://localhost:8080/"
        },
        "id": "zrxTpvysf0zN",
        "outputId": "cbc8ce29-3935-42ba-f083-666ff870137b"
      },
      "execution_count": 8,
      "outputs": [
        {
          "output_type": "stream",
          "name": "stdout",
          "text": [
            "Розв'язання на відрізку [-2, -1]\n",
            "Метод Ньютона, x = -1.3237\n",
            "Комбінований метод, x =  -1.3237\n",
            "\n",
            " Розв'язання на відрізку [0, 1]\n",
            "Метод Ньютона, x = 0.8916\n",
            "Комбінований метод, x =  0.8916\n"
          ]
        }
      ]
    },
    {
      "cell_type": "markdown",
      "source": [
        "Завдання 3. Лабораторна робота 3\n",
        "\n",
        "Тема: Відокремлення дійсних коренів рівнянь та їх уточнення методом простої ітерації."
      ],
      "metadata": {
        "id": "370aMnuwjPeK"
      }
    },
    {
      "cell_type": "code",
      "source": [
        "!pip install numdifftools"
      ],
      "metadata": {
        "colab": {
          "base_uri": "https://localhost:8080/"
        },
        "id": "Rc37HrNui3h5",
        "outputId": "68cdd003-a818-4c66-e6eb-407e29171b7e"
      },
      "execution_count": 1,
      "outputs": [
        {
          "output_type": "stream",
          "name": "stdout",
          "text": [
            "Collecting numdifftools\n",
            "  Downloading numdifftools-0.9.41-py2.py3-none-any.whl.metadata (39 kB)\n",
            "Requirement already satisfied: numpy>=1.9 in /usr/local/lib/python3.12/dist-packages (from numdifftools) (2.0.2)\n",
            "Requirement already satisfied: scipy>=0.8 in /usr/local/lib/python3.12/dist-packages (from numdifftools) (1.16.2)\n",
            "Downloading numdifftools-0.9.41-py2.py3-none-any.whl (100 kB)\n",
            "\u001b[2K   \u001b[90m━━━━━━━━━━━━━━━━━━━━━━━━━━━━━━━━━━━━━━━━\u001b[0m \u001b[32m100.2/100.2 kB\u001b[0m \u001b[31m4.3 MB/s\u001b[0m eta \u001b[36m0:00:00\u001b[0m\n",
            "\u001b[?25hInstalling collected packages: numdifftools\n",
            "Successfully installed numdifftools-0.9.41\n"
          ]
        }
      ]
    },
    {
      "cell_type": "code",
      "source": [
        "import numdifftools as nd"
      ],
      "metadata": {
        "id": "mCRRGRFlizK1"
      },
      "execution_count": 2,
      "outputs": []
    },
    {
      "cell_type": "markdown",
      "source": [
        "![image.png](data:image/png;base64,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)"
      ],
      "metadata": {
        "id": "gN8xnvr-7QDI"
      }
    },
    {
      "cell_type": "markdown",
      "source": [
        "Визначаємо, що корінь належить відрізку  [-1,0]"
      ],
      "metadata": {
        "id": "LCQ8hOpY7SSa"
      }
    },
    {
      "cell_type": "code",
      "source": [
        "def f(x: float):\n",
        "    return x**3 + 0.1*x**2 + 0.4*x + 1.2\n",
        "\n",
        "def fprime(x: float):\n",
        "    return nd.Derivative(f, n=1)\n",
        "\n",
        "def phi(x: float):\n",
        "    # c = -0.1 (забезпечує |phi'(x)|<1 на [-1,0])\n",
        "    return x - 0.1 * f(x)\n",
        "\n",
        "def iterate_fixed_point(x0: float, iters: int = 5):\n",
        "    xs = [x0]\n",
        "    x = x0\n",
        "    for _ in range(iters):\n",
        "        x = phi(x)\n",
        "        xs.append(x)\n",
        "    return xs\n",
        "\n",
        "def error_bound(x_last: float) -> float:\n",
        "    # μ = min_{x∈[-1,0]} |f'(x)| = 0.4\n",
        "    mu = 0.4\n",
        "    return abs(f(x_last)) / mu\n",
        "\n"
      ],
      "metadata": {
        "id": "gt8HxS1AiM0Y"
      },
      "execution_count": 10,
      "outputs": []
    },
    {
      "cell_type": "code",
      "source": [
        "def main():\n",
        "    x0 = -1.0 # нульове наближення має належати відрізку [-1, 0]\n",
        "    iters = 5\n",
        "    xs = iterate_fixed_point(x0, iters)\n",
        "    print(\"Fixed-point iteration for f(x) = x³ − 0.1x² + 0.4x + 1.2 with phi(x) = x - 0.1*f(x)\")\n",
        "    print(f\"Interval: [-1, 0], start x0 = {x0}\")\n",
        "    for i, xi in enumerate(xs):\n",
        "        if i == 0:\n",
        "            print(f\"x_{i} = {xi:.10f}\")\n",
        "        else:\n",
        "            print(f\"x_{i} = phi(x_{i-1}) = {xi:.10f}\")\n",
        "    bound = error_bound(xs[-1])\n",
        "    print(\"\\nError bound after 5 iterations:  |ξ - x5| ≤ |f(x5)| / μ\")\n",
        "    print(f\"f(x5) = {f(xs[-1]):.10f},  μ = 0.4  ⇒  |ξ - x5| ≤ {bound:.10f}\")\n",
        "    return xs[-1], bound\n",
        "\n",
        "if __name__ == \"__main__\":\n",
        "    root_approx, bound = main()"
      ],
      "metadata": {
        "colab": {
          "base_uri": "https://localhost:8080/"
        },
        "id": "NcUIwAOAimLR",
        "outputId": "8db86d20-da75-45f6-9513-1276f7916a5e"
      },
      "execution_count": 11,
      "outputs": [
        {
          "output_type": "stream",
          "name": "stdout",
          "text": [
            "Fixed-point iteration for f(x) = x³ − 0.1x² + 0.4x + 1.2 with phi(x) = x - 0.1*f(x)\n",
            "Interval: [-1, 0], start x0 = -1.0\n",
            "x_0 = -1.0000000000\n",
            "x_1 = phi(x_0) = -0.9900000000\n",
            "x_2 = phi(x_1) = -0.9831711000\n",
            "x_3 = phi(x_2) = -0.9784746932\n",
            "x_4 = phi(x_3) = -0.9752294204\n",
            "x_5 = phi(x_4) = -0.9729795871\n",
            "\n",
            "Error bound after 5 iterations:  |ξ - x5| ≤ |f(x5)| / μ\n",
            "f(x5) = -0.0156322490,  μ = 0.4  ⇒  |ξ - x5| ≤ 0.0390806224\n"
          ]
        }
      ]
    },
    {
      "cell_type": "markdown",
      "source": [
        "Спрощений варіант коду\n"
      ],
      "metadata": {
        "id": "_gkwLHTNkDwS"
      }
    },
    {
      "cell_type": "code",
      "source": [
        "# Рівняння: f(x) = x³ − 0.1x² + 0.4x + 1.2 = 0\n",
        "# Ітераційна функція: φ(x) = x - 0.1 * f(x)  (c = -0.1)\n",
        "# Початкове наближення: x0 = -1\n",
        "# Кількість ітерацій: 5\n",
        "# Оцінка похибки: |ξ - x5| ≤ |f(x5)| / μ, де μ = min_{[-3,-1]} |f'(x)| = 0.4\n",
        "\n",
        "def f(x):\n",
        "    return x**3 - 0.1*x**2 + 0.4*x + 1.2\n",
        "\n",
        "def phi(x):\n",
        "    return x - 0.1 * f(x)   # c = -0.1\n",
        "\n",
        "def fixed_point(x0=-1.0, iters=5):\n",
        "    xs = [x0]\n",
        "    for _ in range(iters):\n",
        "        xs.append(phi(xs[-1]))\n",
        "    return xs\n",
        "\n",
        "# Запуск і вивід результатів\n",
        "xs = fixed_point(-1.0, 5)\n",
        "\n",
        "for i, xi in enumerate(xs):\n",
        "    print(f\"x_{i} = {xi:.10f}\")\n",
        "\n",
        "# Похибка методу простої ітерації після 5-ї ітерації\n",
        "mu = 0.4                      # μ = min_{[-3,-1]} |3x^2 - 1| = 0.4\n",
        "err_bound = abs(f(xs[-1]))/mu\n",
        "print(f\"\\nОцінка похибки: |ξ - x5| ≤ {err_bound:.10f}\")"
      ],
      "metadata": {
        "colab": {
          "base_uri": "https://localhost:8080/"
        },
        "id": "womZO91vj9vN",
        "outputId": "6d51fb11-6d20-4093-9dfb-5d592eef0497"
      },
      "execution_count": 12,
      "outputs": [
        {
          "output_type": "stream",
          "name": "stdout",
          "text": [
            "x_0 = -1.0000000000\n",
            "x_1 = -0.9700000000\n",
            "x_2 = -0.9505237000\n",
            "x_3 = -0.9375884290\n",
            "x_4 = -0.9288733918\n",
            "x_5 = -0.9229466654\n",
            "\n",
            "Оцінка похибки: |ξ - x5| ≤ 0.1013897099\n"
          ]
        }
      ]
    },
    {
      "cell_type": "markdown",
      "source": [
        "Перевірка"
      ],
      "metadata": {
        "id": "wu9tOFXywo2Y"
      }
    },
    {
      "cell_type": "code",
      "source": [
        "import sympy as sym\n",
        "\n",
        "a, b = -3, -1\n",
        "\n",
        "x, a, b = sym.symbols('x, a, b')\n",
        "f = x**3 - x + 7\n",
        "\n",
        "s = sym.solve(f, x)\n",
        "print(s)"
      ],
      "metadata": {
        "colab": {
          "base_uri": "https://localhost:8080/"
        },
        "id": "oajv2re4wsmU",
        "outputId": "9ab249ae-3811-46b7-ad61-0dfcf7fe169d"
      },
      "execution_count": null,
      "outputs": [
        {
          "output_type": "stream",
          "name": "stdout",
          "text": [
            "[-1/((-1/2 - sqrt(3)*I/2)*(3*sqrt(3957)/2 + 189/2)**(1/3)) - (-1/2 - sqrt(3)*I/2)*(3*sqrt(3957)/2 + 189/2)**(1/3)/3, -(-1/2 + sqrt(3)*I/2)*(3*sqrt(3957)/2 + 189/2)**(1/3)/3 - 1/((-1/2 + sqrt(3)*I/2)*(3*sqrt(3957)/2 + 189/2)**(1/3)), -(3*sqrt(3957)/2 + 189/2)**(1/3)/3 - 1/(3*sqrt(3957)/2 + 189/2)**(1/3)]\n"
          ]
        }
      ]
    }
  ]
}