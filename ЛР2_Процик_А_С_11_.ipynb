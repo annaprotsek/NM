{
  "nbformat": 4,
  "nbformat_minor": 0,
  "metadata": {
    "colab": {
      "provenance": [],
      "include_colab_link": true
    },
    "kernelspec": {
      "name": "python3",
      "display_name": "Python 3"
    },
    "language_info": {
      "name": "python"
    }
  },
  "cells": [
    {
      "cell_type": "markdown",
      "metadata": {
        "id": "view-in-github",
        "colab_type": "text"
      },
      "source": [
        "<a href=\"https://colab.research.google.com/github/annaprotsek/NM/blob/main/%D0%9B%D0%A02_%D0%9F%D1%80%D0%BE%D1%86%D0%B8%D0%BA_%D0%90_%D0%A1_11_.ipynb\" target=\"_parent\"><img src=\"https://colab.research.google.com/assets/colab-badge.svg\" alt=\"Open In Colab\"/></a>"
      ]
    },
    {
      "cell_type": "markdown",
      "source": [
        "1. Метод ділення навпіл."
      ],
      "metadata": {
        "id": "VgrW9zRY0dVt"
      }
    },
    {
      "cell_type": "code",
      "execution_count": null,
      "metadata": {
        "colab": {
          "base_uri": "https://localhost:8080/"
        },
        "id": "iOTNXySVyeHy",
        "outputId": "1171ee55-ec2d-43a3-92c4-13fd6c08b988"
      },
      "outputs": [
        {
          "output_type": "stream",
          "name": "stdout",
          "text": [
            "Результати обчислень\n",
            "\n",
            "          a      F(a)         c      F(c)       b      F(b)\n",
            "0 -3.000000  0.977954 -2.000000  1.135204 -1.0000 -0.454649\n",
            "1 -2.000000  1.135204 -1.500000 -0.123480 -1.0000 -0.454649\n",
            "2 -2.000000  1.135204 -1.750000  0.405593 -1.5000 -0.123480\n",
            "3 -1.750000  0.405593 -1.625000  0.109040 -1.5000 -0.123480\n",
            "4 -1.625000  0.109040 -1.562500 -0.015587 -1.5000 -0.123480\n",
            "5 -1.625000  0.109040 -1.593750  0.044659 -1.5625 -0.015587\n",
            "6 -1.593750  0.044659 -1.578125  0.014015 -1.5625 -0.015587\n",
            "7 -1.578125  0.014015 -1.570312 -0.000917 -1.5625 -0.015587\n",
            "\n",
            "В точці с =  -1.5703125 , f(c) =  -0.0009171268569415665\n"
          ]
        }
      ],
      "source": [
        "import numpy as np\n",
        "import pandas as pd\n",
        "\n",
        "# Визначаємо функцію\n",
        "def f (x):\n",
        "    y = np.cos(x)*np.sin(x)*(x**2+x+1)\n",
        "    return y\n",
        "# Визначаємо границі відрізку\n",
        "a, b = -3, -1\n",
        "# Визначаємо точність розв'язку\n",
        "h = 0.001\n",
        "# Поділяємо відрізок навпіл\n",
        "c = (a+b)/2\n",
        "# Зберігаємо результати обчислень\n",
        "data_A = [a]\n",
        "data_B = [b]\n",
        "data_C = [c]\n",
        "data_F_A = [f(a)]\n",
        "data_F_B = [f(b)]\n",
        "data_F_C = [f(c)]\n",
        "# Перевіряємо досягнення точності\n",
        "while abs(f(c)) > h:\n",
        "    # Звужуємо відрізок\n",
        "    if np.sign(f(c)) == np.sign(f(a)):\n",
        "        a = c\n",
        "    else:\n",
        "        b = c\n",
        "    # Поділяємо відрізок навпіл\n",
        "    c = (a+b)/2\n",
        "    # Зберігаємо результати обчислень\n",
        "    data_A.append(a)\n",
        "    data_B.append(b)\n",
        "    data_C.append(c)\n",
        "    data_F_A.append(f(a))\n",
        "    data_F_B.append(f(b))\n",
        "    data_F_C.append(f(c))\n",
        "# Відображаємо результати обчислень\n",
        "print('Результати обчислень')\n",
        "print()\n",
        "data = pd.DataFrame({'a': data_A,\n",
        "                     'F(a)': data_F_A,\n",
        "                     'c': data_C,\n",
        "                     'F(c)': data_F_C,\n",
        "                     'b': data_B,\n",
        "                     'F(b)': data_F_B})\n",
        "print(data)\n",
        "# Відображаємо наближений корінь рівняння\n",
        "print()\n",
        "print('В точці с = ', c, ', f(c) = ', f(c))"
      ]
    },
    {
      "cell_type": "markdown",
      "source": [
        "2. Метод ділення навпіл"
      ],
      "metadata": {
        "id": "5hYa7ucn0PEN"
      }
    },
    {
      "cell_type": "code",
      "source": [
        "import numpy as np\n",
        "import scipy.optimize as sp\n",
        "\n",
        "def f(x):\n",
        "    y = np.cos(x)*np.sin(x)*(x**2+x+1)\n",
        "    return y\n",
        "\n",
        "a, b = -3, -1\n",
        "eps = 1.e-3\n",
        "\n",
        "x = sp.bisect(f, a, b,(),eps) #функція для метода\n",
        "\n",
        "print('The approximate solution x is:', x)\n",
        "print('And the value f(x) is:', f(x))"
      ],
      "metadata": {
        "colab": {
          "base_uri": "https://localhost:8080/"
        },
        "id": "ML3KEw5q0H1e",
        "outputId": "ba6d3a4c-ad2f-467d-eec9-ff71ca372431"
      },
      "execution_count": null,
      "outputs": [
        {
          "output_type": "stream",
          "name": "stdout",
          "text": [
            "The approximate solution x is: -1.5712890625\n",
            "And the value f(x) is: 0.0009350448126615916\n"
          ]
        }
      ]
    },
    {
      "cell_type": "markdown",
      "source": [
        "3. Метод хорд"
      ],
      "metadata": {
        "id": "sYf0IvR41ufd"
      }
    },
    {
      "cell_type": "code",
      "source": [
        "import numpy as np\n",
        "import pandas as pd\n",
        "# Визначаємо функцію\n",
        "def f(x):\n",
        "    y = np.cos(x)*np.sin(x)*(x**2+x+1)\n",
        "    return y\n",
        "# Визначаємо межі відрізку\n",
        "a, b = -3, -1\n",
        "# Визначаємо точність розв'язку\n",
        "eps = 0.001\n",
        "# Точка, де хорда перетинає вісь 0x\n",
        "c = (f(a)*b-a*f(b))/(f(a)-f(b))\n",
        "\n",
        "# Зберігаємо результати обчислень\n",
        "data_A = [a]\n",
        "data_B = [b]\n",
        "data_C = [c]\n",
        "data_F_A = [f(a)]\n",
        "data_F_B = [f(b)]\n",
        "data_F_C = [f(c)]\n",
        "# Перевіряємо досягнення точності\n",
        "while abs(f(c)) > eps:\n",
        "    # Звужуємо відрізок\n",
        "    if np.sign(f(c)) == np.sign(f(a)):\n",
        "        a = c\n",
        "    else:\n",
        "        b = c\n",
        "    # Точка, де хорда перетинає вісь 0x\n",
        "    c = (f(a)*b-a*f(b))/(f(a)-f(b))\n",
        "    # Зберігаємо результати обчислень\n",
        "    data_A.append(a)\n",
        "    data_B.append(b)\n",
        "    data_C.append(c)\n",
        "    data_F_A.append(f(a))\n",
        "    data_F_B.append(f(b))\n",
        "    data_F_C.append(f(c))\n",
        "# Відображаємо результати обчислень\n",
        "print('Результати обчислень')\n",
        "print()\n",
        "data = pd.DataFrame({'a': data_A, 'F(a)': data_F_A,\n",
        "                     'c': data_C, 'F(c)': data_F_C,\n",
        "                     'b': data_B, 'F(b)': data_F_B})\n",
        "print(data)\n",
        "# Відображаємо наближений корінь рівняння\n",
        "print()\n",
        "print('В точці с = ', c, ', f(c) = ', f(c))"
      ],
      "metadata": {
        "colab": {
          "base_uri": "https://localhost:8080/"
        },
        "id": "3p6i5xHK1y3l",
        "outputId": "5d7cb481-6809-4eb0-e7a6-f4fa9e7e78db"
      },
      "execution_count": null,
      "outputs": [
        {
          "output_type": "stream",
          "name": "stdout",
          "text": [
            "Результати обчислень\n",
            "\n",
            "          a      F(a)         c      F(c)         b      F(b)\n",
            "0 -3.000000  0.977954 -1.634717  0.129889 -1.000000 -0.454649\n",
            "1 -1.634717  0.129889 -1.493678 -0.133455 -1.000000 -0.454649\n",
            "2 -1.634717  0.129889 -1.565152 -0.010636 -1.493678 -0.133455\n",
            "3 -1.634717  0.129889 -1.570418 -0.000718 -1.565152 -0.010636\n",
            "\n",
            "В точці с =  -1.5704175737258015 , f(c) =  -0.0007180376446871882\n"
          ]
        }
      ]
    },
    {
      "cell_type": "markdown",
      "source": [
        "4. Метод Ньютона (дотичних)"
      ],
      "metadata": {
        "id": "40blPBSK2Cdm"
      }
    },
    {
      "cell_type": "code",
      "source": [
        "import numpy as np\n",
        "import pandas as pd\n",
        "# Визначаємо функцію\n",
        "def f(x):\n",
        "    y = np.cos(x)*np.sin(x)*(x**2+x+1)\n",
        "    return y\n",
        "# Визначаємо першу похідну\n",
        "def df(x):\n",
        "    y1 = -(x**2+x+1)*(np.sin(x))**2\n",
        "    y2 = (x**2+x+1)*(np.cos(x))**2\n",
        "    y3 = (2*x+1)*np.sin(x)*np.cos(x)\n",
        "    y = y1+y2+y3\n",
        "    return y\n",
        "# Визначаємо початкову точку\n",
        "c = -1.4\n",
        "# Визначаємо точність розв'язку\n",
        "h = 0.001\n",
        "# Зберігаємо результати обчислень\n",
        "data_C = [c]\n",
        "data_F_C = [f(c)]\n",
        "# Перевіряємо досягнення точності\n",
        "while abs(f(c)) > h:\n",
        "    # Точка, де дотична перетинає вісь 0x\n",
        "    c -= f(c)/df(c)\n",
        "    # Зберігаємо результати обчислень\n",
        "    data_C.append(c)\n",
        "    data_F_C.append(f(c))\n",
        "# Відображаємо результати обчислень\n",
        "print('Результати обчислень')\n",
        "print()\n",
        "data = pd.DataFrame({'c': data_C, 'F(c)': data_F_C})\n",
        "print(data)\n",
        "# Відображаємо наближений корінь рівняння\n",
        "print()\n",
        "print('В точці с = ', c, ', f(c) = ', f(c))"
      ],
      "metadata": {
        "colab": {
          "base_uri": "https://localhost:8080/"
        },
        "id": "WeGQjbjW2HDz",
        "outputId": "7fd55bf4-4d4c-43ea-ce09-3fbf365aa5c5"
      },
      "execution_count": null,
      "outputs": [
        {
          "output_type": "stream",
          "name": "stdout",
          "text": [
            "Результати обчислень\n",
            "\n",
            "          c      F(c)\n",
            "0 -1.400000 -0.261291\n",
            "1 -1.623636  0.106144\n",
            "2 -1.573564  0.005266\n",
            "3 -1.570805  0.000016\n",
            "\n",
            "В точці с =  -1.5708049170979717 , f(c) =  1.6292567852764437e-05\n"
          ]
        }
      ]
    },
    {
      "cell_type": "markdown",
      "source": [
        "5. Метод Ньютона (дотичних)"
      ],
      "metadata": {
        "id": "qjI38bTp0xCo"
      }
    },
    {
      "cell_type": "code",
      "source": [
        "import numpy as np\n",
        "import scipy.optimize as sp\n",
        "\n",
        "def f(x):\n",
        "    y = np.cos(x)*np.sin(x)*(x**2+x+1)\n",
        "    return y\n",
        "\n",
        "def df(x):# Обчислення похідної\n",
        "    y1 = -(x**2+x+1)*(np.sin(x))**2\n",
        "    y2 = (x**2+x+1)*(np.cos(x))**2\n",
        "    y3 = (2*x+1)*np.sin(x)*np.cos(x)\n",
        "    y = y1+y2+y3\n",
        "    return y\n",
        "\n",
        "x0 = -1.4\n",
        "x1 = 1.4\n",
        "\n",
        "x_0 = sp.newton(f, x0, df, tol=1.e-3, maxiter=50)\n",
        "x_1 = sp.newton(f, x1, df, tol=1.e-3, maxiter=50)\n",
        "\n",
        "print('The approximate solution x is:', x_0)\n",
        "print('And the value f(x_0) is:', f(x_0))\n",
        "\n",
        "print('The approximate solution x is:', x_1)\n",
        "print('And the value f(x_0) is:', f(x_1))"
      ],
      "metadata": {
        "colab": {
          "base_uri": "https://localhost:8080/"
        },
        "id": "AonZxq_H0m6-",
        "outputId": "7acab5b7-6894-4cb1-b0d3-217d498bae02"
      },
      "execution_count": null,
      "outputs": [
        {
          "output_type": "stream",
          "name": "stdout",
          "text": [
            "The approximate solution x is: -1.5707963268782201\n",
            "And the value f(x_0) is: 1.5803176499052036e-10\n",
            "The approximate solution x is: 1.5707963267958693\n",
            "And the value f(x_0) is: -4.9007361645997675e-12\n"
          ]
        }
      ]
    },
    {
      "cell_type": "markdown",
      "source": [
        " # Знаходження коренів рівняння за допомогою бібліотеки SymPy"
      ],
      "metadata": {
        "id": "pvK9N9TH1QD-"
      }
    },
    {
      "cell_type": "code",
      "source": [
        "import sympy as sym\n",
        "\n",
        "x = sym.Symbol('x')\n",
        "\n",
        "y = sym.cos(x)*sym.sin(x)*(x**2+x+1)\n",
        "\n",
        "s = sym.solve(y)\n",
        "\n",
        "print(s)"
      ],
      "metadata": {
        "colab": {
          "base_uri": "https://localhost:8080/"
        },
        "id": "PuAp1WCr08qt",
        "outputId": "e6c1700c-9dac-40cd-bfb8-d66ee3263417"
      },
      "execution_count": 1,
      "outputs": [
        {
          "output_type": "stream",
          "name": "stdout",
          "text": [
            "[0, pi/2, pi, 3*pi/2, -1/2 - sqrt(3)*I/2, -1/2 + sqrt(3)*I/2]\n"
          ]
        }
      ]
    },
    {
      "cell_type": "code",
      "source": [
        "import sympy as sym\n",
        "\n",
        "x, a, b, c = sym.symbols('x, a, b, c')\n",
        "\n",
        "y = a * x**2 + b * x + c\n",
        "\n",
        "s = sym.solve(y, x)\n",
        "\n",
        "print(s)"
      ],
      "metadata": {
        "colab": {
          "base_uri": "https://localhost:8080/"
        },
        "id": "Y0d-uHtp1c7r",
        "outputId": "dbdaf340-f06d-4f5c-91dc-34937de6a7cc"
      },
      "execution_count": 2,
      "outputs": [
        {
          "output_type": "stream",
          "name": "stdout",
          "text": [
            "[(-b - sqrt(-4*a*c + b**2))/(2*a), (-b + sqrt(-4*a*c + b**2))/(2*a)]\n"
          ]
        }
      ]
    },
    {
      "cell_type": "code",
      "source": [
        "!pip install numdifftools"
      ],
      "metadata": {
        "colab": {
          "base_uri": "https://localhost:8080/"
        },
        "id": "yiLJNuM3Cq0-",
        "outputId": "415cebc4-d8e1-4080-da35-7a434ef2f581"
      },
      "execution_count": 3,
      "outputs": [
        {
          "output_type": "stream",
          "name": "stdout",
          "text": [
            "Collecting numdifftools\n",
            "  Downloading numdifftools-0.9.41-py2.py3-none-any.whl.metadata (39 kB)\n",
            "Requirement already satisfied: numpy>=1.9 in /usr/local/lib/python3.12/dist-packages (from numdifftools) (2.0.2)\n",
            "Requirement already satisfied: scipy>=0.8 in /usr/local/lib/python3.12/dist-packages (from numdifftools) (1.16.1)\n",
            "Downloading numdifftools-0.9.41-py2.py3-none-any.whl (100 kB)\n",
            "\u001b[2K   \u001b[90m━━━━━━━━━━━━━━━━━━━━━━━━━━━━━━━━━━━━━━━━\u001b[0m \u001b[32m100.2/100.2 kB\u001b[0m \u001b[31m4.2 MB/s\u001b[0m eta \u001b[36m0:00:00\u001b[0m\n",
            "\u001b[?25hInstalling collected packages: numdifftools\n",
            "Successfully installed numdifftools-0.9.41\n"
          ]
        }
      ]
    },
    {
      "cell_type": "code",
      "source": [
        "#Лабораторна робота 2\n",
        "#Відокремлення коренів\n",
        "import numpy as np\n",
        "import numdifftools as nd\n",
        "\n",
        "def f(x):\n",
        "    return 3*x**4 + 2*x**3 + x**2 + x - 5\n",
        "\n",
        "\n",
        "def find_segments(): #відокремлюємо корені\n",
        "    search_range = np.arange(-5, 5, 1)\n",
        "\n",
        "    a = None\n",
        "    previous_x = None\n",
        "    current_x  = None\n",
        "    segments = []\n",
        "\n",
        "    for x in search_range:\n",
        "        x = round(x, 4)\n",
        "        current_x = f(x)\n",
        "        if previous_x != None and previous_x * current_x < 0:\n",
        "            segments.append((a, x))\n",
        "        a = x\n",
        "        previous_x = current_x\n",
        "    return segments\n",
        "\n",
        "segments = find_segments()\n",
        "for a, b in segments:\n",
        "    print(f'Found segment:  [{a}, {b}]')\n"
      ],
      "metadata": {
        "colab": {
          "base_uri": "https://localhost:8080/"
        },
        "id": "L-9dn4npCso-",
        "outputId": "257950b1-c05c-41ff-b1a6-6f7b8cdf77e1"
      },
      "execution_count": 4,
      "outputs": [
        {
          "output_type": "stream",
          "name": "stdout",
          "text": [
            "Found segment:  [-2, -1]\n",
            "Found segment:  [0, 1]\n"
          ]
        }
      ]
    },
    {
      "cell_type": "code",
      "source": [
        "import numpy as np\n",
        "import matplotlib.pyplot as plt\n",
        "\n",
        "# Визначення функції\n",
        "def f(x):\n",
        "    return 3*x**4 + 2*x**3 + x**2 + x - 5\n",
        "\n",
        "# Генерація значень x\n",
        "x = np.linspace(-3, 3, 100)\n",
        "\n",
        "# Генерація значень y\n",
        "y = f(x)\n",
        "\n",
        "# Побудова графіка\n",
        "plt.figure(figsize=(8, 6))\n",
        "plt.plot(x, y, label='3*x**4 + 2*x**3 + x**2 + x - 5', color='blue')\n",
        "plt.title('Графік функції 3*x**4 + 2*x**3 + x**2 + x - 5')\n",
        "plt.xlabel('x')\n",
        "plt.ylabel('f(x)')\n",
        "\n",
        "# Додавання осей з стрілками\n",
        "plt.axhline(0, color='black', linewidth=0.5)\n",
        "plt.axvline(0, color='black', linewidth=0.5)\n",
        "\n",
        "plt.text(2.05, -4, 'x', ha='center', va='center')\n",
        "plt.text(-0.3, 190, 'y', ha='center', va='center')\n",
        "\n",
        "plt.grid(True)\n",
        "plt.legend()\n",
        "plt.show()\n"
      ],
      "metadata": {
        "colab": {
          "base_uri": "https://localhost:8080/",
          "height": 564
        },
        "id": "7zUI3d1xZXar",
        "outputId": "ef346303-a204-442d-fb48-f11c93b8eafd"
      },
      "execution_count": 6,
      "outputs": [
        {
          "output_type": "display_data",
          "data": {
            "text/plain": [
              "<Figure size 800x600 with 1 Axes>"
            ],
            "image/png": "[encoded data removed]"
          },
          "metadata": {}
        }
      ]
    },
    {
      "cell_type": "markdown",
      "source": [
        "![image.png](data:image/png;base64,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)"
      ],
      "metadata": {
        "id": "cBMj_LGHQI0w"
      }
    },
    {
      "cell_type": "code",
      "source": [
        "#Лабораторна робота. Метод половинного ділення, хорд\n",
        "\n",
        "\n",
        "def rec(a, b, eps):  # метод половинного ділення\n",
        "    while (abs(a - b) > eps):\n",
        "        if f(a) * f((a + b) / 2) < 0:\n",
        "            b = (a + b) / 2\n",
        "        else:\n",
        "            a = (a + b) / 2\n",
        "        x = (a + b) / 2\n",
        "\n",
        "    print('x= ', round(x, 5), '  -   Half division method')\n"
      ],
      "metadata": {
        "id": "BgjK94O9Cfxe"
      },
      "execution_count": 7,
      "outputs": []
    },
    {
      "cell_type": "code",
      "source": [
        "def hord(a, b, eps):  # метод хорд\n",
        "    derivative_f = nd.Derivative(f, n=2)\n",
        "    if f(a) * derivative_f(a) > 0:\n",
        "        x0 = a\n",
        "        xi = b\n",
        "    else:\n",
        "        x0 = b\n",
        "        xi = a\n",
        "    xi_1 = xi - (xi - x0) * f(xi) / (f(xi) - f(x0))\n",
        "    while (abs(xi_1 - xi) > eps):\n",
        "        xi = xi_1\n",
        "        xi_1 = xi - (xi - x0) * f(xi) / (f(xi) - f(x0))\n",
        "    print('x= ', round(xi_1, 5), '  -   Chord method')\n"
      ],
      "metadata": {
        "id": "Sz_KWVf7D2tL"
      },
      "execution_count": 8,
      "outputs": []
    },
    {
      "cell_type": "code",
      "source": [
        "if __name__ == \"__main__\":\n",
        "    a1, b1 = -2, -1\n",
        "    a2, b2 = 1, 2\n",
        "    eps = 0.001\n",
        "    print(\"Розв'язки на відрізку [-2,-1]\")\n",
        "    rec(a1, b1, eps)\n",
        "    hord(a1, b1, eps)\n",
        "    print(\"\\n Розв'язки на відрізку [0,1]\")\n",
        "    rec(a2, b2, eps)\n",
        "    hord(a2, b2, eps)"
      ],
      "metadata": {
        "id": "upx7R4yoFZj_",
        "outputId": "f4ce8545-5d78-47f7-f4ef-afd59bd1f066",
        "colab": {
          "base_uri": "https://localhost:8080/"
        }
      },
      "execution_count": 9,
      "outputs": [
        {
          "output_type": "stream",
          "name": "stdout",
          "text": [
            "Розв'язки на відрізку [-2,-1]\n",
            "x=  -1.32373   -   Half division method\n",
            "x=  -1.32243   -   Chord method\n",
            "\n",
            " Розв'язки на відрізку [0,1]\n",
            "x=  1.99951   -   Half division method\n",
            "x=  0.89162   -   Chord method\n"
          ]
        }
      ]
    },
    {
      "cell_type": "code",
      "source": [
        "#Лабораторна робота 3. Метод Ньютона (дотичних). Комбінований метод\n",
        "\n",
        "def nuton(a, b, eps, f):\n",
        "    df2 = nd.Derivative(f, n=2)(b)  # Отримуємо значення похідної другого порядку в точці b\n",
        "    if f(b) * df2 > 0:\n",
        "        xi = b\n",
        "    else:\n",
        "        xi = a\n",
        "    df = nd.Derivative(f, n=1)(xi)  # Отримуємо значення похідної першого порядку в точці xi\n",
        "    xi_1 = xi - f(xi) / df\n",
        "    while abs(xi_1 - xi) > eps:  # перевіряємо точність\n",
        "        xi = xi_1\n",
        "        xi_1 = xi - f(xi) / df\n",
        "    print('Метод Ньютона, x = ', xi_1.round(4))\n"
      ],
      "metadata": {
        "id": "uz6OF8g2C-vY"
      },
      "execution_count": null,
      "outputs": []
    },
    {
      "cell_type": "code",
      "source": [
        "def komb(a, b, eps, f):\n",
        "    df2 = nd.Derivative(f, n=2)(a)\n",
        "    if f(a) * df2 > 0:\n",
        "        a0 = a\n",
        "        b0 = b\n",
        "    else:\n",
        "        a0 = b\n",
        "        b0 = a\n",
        "    ai = a0\n",
        "    bi = b0\n",
        "    while abs(ai - bi) > eps:\n",
        "        ai_1 = ai - f(ai) * (bi - ai) / (f(bi) - f(ai))\n",
        "        bi_1 = bi - f(bi) / nd.Derivative(f, n=1)(bi)\n",
        "        ai = ai_1\n",
        "        bi = bi_1\n",
        "    x = (ai_1 + bi_1) / 2\n",
        "\n",
        "    print('Комбінований метод, x = ', x.round(4))\n"
      ],
      "metadata": {
        "id": "M2T4FA4ifyy_"
      },
      "execution_count": null,
      "outputs": []
    },
    {
      "cell_type": "code",
      "source": [
        "if __name__ == \"__main__\":\n",
        "    a1, b1 = -2, -1\n",
        "    a2, b2 = 1, 0\n",
        "    eps = 0.001\n",
        "\n",
        "    print(\"Розв'язання на відрізку [-2, -1]\")\n",
        "    nuton(a1, b1, eps, f)\n",
        "    komb(a1, b1, eps, f)\n",
        "    print(\"\\n Розв'язання на відрізку [0, 1]\")\n",
        "    nuton(a2, b2, eps, f)\n",
        "    komb(a2, b2, eps, f)"
      ],
      "metadata": {
        "colab": {
          "base_uri": "https://localhost:8080/",
          "height": 234
        },
        "id": "zrxTpvysf0zN",
        "outputId": "cbae63c0-724a-4542-b8a4-3d820917471e"
      },
      "execution_count": null,
      "outputs": [
        {
          "output_type": "stream",
          "name": "stdout",
          "text": [
            "Розв'язання на відрізку [-2, -1]\n"
          ]
        },
        {
          "output_type": "error",
          "ename": "NameError",
          "evalue": "name 'nuton' is not defined",
          "traceback": [
            "\u001b[0;31m---------------------------------------------------------------------------\u001b[0m",
            "\u001b[0;31mNameError\u001b[0m                                 Traceback (most recent call last)",
            "\u001b[0;32m/tmp/ipython-input-868080150.py\u001b[0m in \u001b[0;36m<cell line: 0>\u001b[0;34m()\u001b[0m\n\u001b[1;32m      5\u001b[0m \u001b[0;34m\u001b[0m\u001b[0m\n\u001b[1;32m      6\u001b[0m     \u001b[0mprint\u001b[0m\u001b[0;34m(\u001b[0m\u001b[0;34m\"Розв'язання на відрізку [-2, -1]\"\u001b[0m\u001b[0;34m)\u001b[0m\u001b[0;34m\u001b[0m\u001b[0;34m\u001b[0m\u001b[0m\n\u001b[0;32m----> 7\u001b[0;31m     \u001b[0mnuton\u001b[0m\u001b[0;34m(\u001b[0m\u001b[0ma1\u001b[0m\u001b[0;34m,\u001b[0m \u001b[0mb1\u001b[0m\u001b[0;34m,\u001b[0m \u001b[0meps\u001b[0m\u001b[0;34m,\u001b[0m \u001b[0mf\u001b[0m\u001b[0;34m)\u001b[0m\u001b[0;34m\u001b[0m\u001b[0;34m\u001b[0m\u001b[0m\n\u001b[0m\u001b[1;32m      8\u001b[0m     \u001b[0mkomb\u001b[0m\u001b[0;34m(\u001b[0m\u001b[0ma1\u001b[0m\u001b[0;34m,\u001b[0m \u001b[0mb1\u001b[0m\u001b[0;34m,\u001b[0m \u001b[0meps\u001b[0m\u001b[0;34m,\u001b[0m \u001b[0mf\u001b[0m\u001b[0;34m)\u001b[0m\u001b[0;34m\u001b[0m\u001b[0;34m\u001b[0m\u001b[0m\n\u001b[1;32m      9\u001b[0m     \u001b[0mprint\u001b[0m\u001b[0;34m(\u001b[0m\u001b[0;34m\"\\n Розв'язання на відрізку [0, 1]\"\u001b[0m\u001b[0;34m)\u001b[0m\u001b[0;34m\u001b[0m\u001b[0;34m\u001b[0m\u001b[0m\n",
            "\u001b[0;31mNameError\u001b[0m: name 'nuton' is not defined"
          ]
        }
      ]
    }
  ]
}