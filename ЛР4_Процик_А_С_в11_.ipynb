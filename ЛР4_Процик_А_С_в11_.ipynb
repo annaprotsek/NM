{
  "nbformat": 4,
  "nbformat_minor": 0,
  "metadata": {
    "colab": {
      "provenance": [],
      "authorship_tag": "ABX9TyOJ75+/tqFyvhVtCi2tsVsO",
      "include_colab_link": true
    },
    "kernelspec": {
      "name": "python3",
      "display_name": "Python 3"
    },
    "language_info": {
      "name": "python"
    }
  },
  "cells": [
    {
      "cell_type": "markdown",
      "metadata": {
        "id": "view-in-github",
        "colab_type": "text"
      },
      "source": [
        "<a href=\"https://colab.research.google.com/github/annaprotsek/NM/blob/main/%D0%9B%D0%A04_%D0%9F%D1%80%D0%BE%D1%86%D0%B8%D0%BA_%D0%90_%D0%A1_%D0%B211_.ipynb\" target=\"_parent\"><img src=\"https://colab.research.google.com/assets/colab-badge.svg\" alt=\"Open In Colab\"/></a>"
      ]
    },
    {
      "cell_type": "markdown",
      "source": [
        "Була присутня на парі 26.09"
      ],
      "metadata": {
        "id": "wweWOfV6QfZd"
      }
    },
    {
      "cell_type": "code",
      "source": [
        "import numpy as np\n",
        "\n",
        "numpy_version = np.__version__\n",
        "numpy_version"
      ],
      "metadata": {
        "colab": {
          "base_uri": "https://localhost:8080/",
          "height": 36
        },
        "id": "b8Pgu4BtQlZ8",
        "outputId": "7b14f7de-80b5-4c50-e288-06800ec37a9b"
      },
      "execution_count": 1,
      "outputs": [
        {
          "output_type": "execute_result",
          "data": {
            "text/plain": [
              "'2.0.2'"
            ],
            "application/vnd.google.colaboratory.intrinsic+json": {
              "type": "string"
            }
          },
          "metadata": {},
          "execution_count": 1
        }
      ]
    },
    {
      "cell_type": "code",
      "source": [
        "matrix = np.random.randint(1, 6, size=(3, 3))\n",
        "\n",
        "matrix"
      ],
      "metadata": {
        "colab": {
          "base_uri": "https://localhost:8080/"
        },
        "id": "-UGdEFvCQrus",
        "outputId": "881d037f-6b67-477f-89d2-93b4b3b639a8"
      },
      "execution_count": 2,
      "outputs": [
        {
          "output_type": "execute_result",
          "data": {
            "text/plain": [
              "array([[1, 2, 3],\n",
              "       [4, 4, 3],\n",
              "       [1, 3, 2]])"
            ]
          },
          "metadata": {},
          "execution_count": 2
        }
      ]
    },
    {
      "cell_type": "code",
      "source": [
        "det = np.linalg.det(matrix)\n",
        "det"
      ],
      "metadata": {
        "colab": {
          "base_uri": "https://localhost:8080/"
        },
        "id": "lPUjcQz_QzpP",
        "outputId": "67cf55f3-d3c3-4f6c-9c72-616c60ded304"
      },
      "execution_count": 3,
      "outputs": [
        {
          "output_type": "execute_result",
          "data": {
            "text/plain": [
              "np.float64(13.0)"
            ]
          },
          "metadata": {},
          "execution_count": 3
        }
      ]
    },
    {
      "cell_type": "code",
      "source": [
        "product = np.prod(matrix)\n",
        "product"
      ],
      "metadata": {
        "colab": {
          "base_uri": "https://localhost:8080/"
        },
        "id": "RRWJ4cnQQ1ND",
        "outputId": "c4d55d15-b509-4b87-fba4-0cefb7f5268d"
      },
      "execution_count": 4,
      "outputs": [
        {
          "output_type": "execute_result",
          "data": {
            "text/plain": [
              "np.int64(1728)"
            ]
          },
          "metadata": {},
          "execution_count": 4
        }
      ]
    },
    {
      "cell_type": "code",
      "source": [
        "prod_1 = np.prod(matrix[0])\n",
        "prod_2 = np.prod(matrix[1])\n",
        "prod_3 = np.prod(matrix[2])\n",
        "prod_1*prod_2*prod_3\n"
      ],
      "metadata": {
        "colab": {
          "base_uri": "https://localhost:8080/"
        },
        "id": "xSj156eSQ4ft",
        "outputId": "f4348bb4-e0cd-4551-d4da-650c27da211e"
      },
      "execution_count": 5,
      "outputs": [
        {
          "output_type": "execute_result",
          "data": {
            "text/plain": [
              "np.int64(1728)"
            ]
          },
          "metadata": {},
          "execution_count": 5
        }
      ]
    },
    {
      "cell_type": "code",
      "source": [
        "np.sum(matrix)"
      ],
      "metadata": {
        "colab": {
          "base_uri": "https://localhost:8080/"
        },
        "id": "YWAs2f1DQ7T3",
        "outputId": "4cff33f9-0bc8-48f8-caae-db21e7c9324c"
      },
      "execution_count": 6,
      "outputs": [
        {
          "output_type": "execute_result",
          "data": {
            "text/plain": [
              "np.int64(23)"
            ]
          },
          "metadata": {},
          "execution_count": 6
        }
      ]
    },
    {
      "cell_type": "code",
      "source": [
        "np.max(matrix)"
      ],
      "metadata": {
        "colab": {
          "base_uri": "https://localhost:8080/"
        },
        "id": "7i2D3u5gQ-K1",
        "outputId": "d4c70622-7d05-4c33-b564-da795220b439"
      },
      "execution_count": 7,
      "outputs": [
        {
          "output_type": "execute_result",
          "data": {
            "text/plain": [
              "np.int64(4)"
            ]
          },
          "metadata": {},
          "execution_count": 7
        }
      ]
    },
    {
      "cell_type": "code",
      "source": [
        "np.min(matrix)"
      ],
      "metadata": {
        "colab": {
          "base_uri": "https://localhost:8080/"
        },
        "id": "yR28ISMERB4s",
        "outputId": "e150f467-892a-47ae-ab3d-27effb8da70e"
      },
      "execution_count": 8,
      "outputs": [
        {
          "output_type": "execute_result",
          "data": {
            "text/plain": [
              "np.int64(1)"
            ]
          },
          "metadata": {},
          "execution_count": 8
        }
      ]
    },
    {
      "cell_type": "code",
      "source": [
        "np.mean(matrix)"
      ],
      "metadata": {
        "colab": {
          "base_uri": "https://localhost:8080/"
        },
        "id": "TRsiex95REch",
        "outputId": "ff6a9f93-c253-41d2-9399-d995392d1d29"
      },
      "execution_count": 9,
      "outputs": [
        {
          "output_type": "execute_result",
          "data": {
            "text/plain": [
              "np.float64(2.5555555555555554)"
            ]
          },
          "metadata": {},
          "execution_count": 9
        }
      ]
    },
    {
      "cell_type": "code",
      "source": [
        "sqrt_matrix = np.sqrt(matrix)\n",
        "\n",
        "print(\"Матриця квадратних коренів\")\n",
        "print(sqrt_matrix)"
      ],
      "metadata": {
        "colab": {
          "base_uri": "https://localhost:8080/"
        },
        "id": "o_1xksbeRHWS",
        "outputId": "9bb9fe8b-5531-406c-fb27-a7d7d7f69db7"
      },
      "execution_count": 11,
      "outputs": [
        {
          "output_type": "stream",
          "name": "stdout",
          "text": [
            "Матриця квадратних коренів\n",
            "[[1.         1.41421356 1.73205081]\n",
            " [2.         2.         1.73205081]\n",
            " [1.         1.73205081 1.41421356]]\n"
          ]
        }
      ]
    },
    {
      "cell_type": "code",
      "source": [
        "print(\"Сума елементів кожного рядка\")\n",
        "np.sum(matrix, axis=1).reshape(-1, 1)"
      ],
      "metadata": {
        "colab": {
          "base_uri": "https://localhost:8080/"
        },
        "id": "yq0VE3HKRUTj",
        "outputId": "f538866f-6644-47c8-d973-e35fff31807f"
      },
      "execution_count": 12,
      "outputs": [
        {
          "output_type": "stream",
          "name": "stdout",
          "text": [
            "Сума елементів кожного рядка\n"
          ]
        },
        {
          "output_type": "execute_result",
          "data": {
            "text/plain": [
              "array([[ 6],\n",
              "       [11],\n",
              "       [ 6]])"
            ]
          },
          "metadata": {},
          "execution_count": 12
        }
      ]
    },
    {
      "cell_type": "code",
      "source": [
        "matrix.sum(axis=1)"
      ],
      "metadata": {
        "colab": {
          "base_uri": "https://localhost:8080/"
        },
        "id": "QDlz3QliRZvW",
        "outputId": "fdc07dc5-0843-4df2-ec11-fe6c2aac0fc7"
      },
      "execution_count": 13,
      "outputs": [
        {
          "output_type": "execute_result",
          "data": {
            "text/plain": [
              "array([ 6, 11,  6])"
            ]
          },
          "metadata": {},
          "execution_count": 13
        }
      ]
    },
    {
      "cell_type": "code",
      "source": [
        "x = np.matrix([[1, 2], [4, 3]])\n",
        "x"
      ],
      "metadata": {
        "colab": {
          "base_uri": "https://localhost:8080/"
        },
        "id": "VDqAP5q7RcSr",
        "outputId": "8510017a-b9a3-493a-d00b-948214072e28"
      },
      "execution_count": 14,
      "outputs": [
        {
          "output_type": "execute_result",
          "data": {
            "text/plain": [
              "matrix([[1, 2],\n",
              "        [4, 3]])"
            ]
          },
          "metadata": {},
          "execution_count": 14
        }
      ]
    },
    {
      "cell_type": "code",
      "source": [
        "x.sum(axis=1, dtype=\"float\")"
      ],
      "metadata": {
        "colab": {
          "base_uri": "https://localhost:8080/"
        },
        "id": "mkNwU36XRi6o",
        "outputId": "fc04686a-0cc0-4f75-d84c-d82a89d58bae"
      },
      "execution_count": 15,
      "outputs": [
        {
          "output_type": "execute_result",
          "data": {
            "text/plain": [
              "matrix([[3.],\n",
              "        [7.]])"
            ]
          },
          "metadata": {},
          "execution_count": 15
        }
      ]
    },
    {
      "cell_type": "code",
      "source": [
        "vector = np.random.randint(0, 10, size=25)\n",
        "vector"
      ],
      "metadata": {
        "colab": {
          "base_uri": "https://localhost:8080/"
        },
        "id": "q9e9WAMlRlqr",
        "outputId": "e0ebac70-d486-4177-a5d6-f8e263112a44"
      },
      "execution_count": 16,
      "outputs": [
        {
          "output_type": "execute_result",
          "data": {
            "text/plain": [
              "array([3, 3, 7, 5, 6, 4, 0, 2, 7, 7, 5, 4, 3, 2, 8, 7, 4, 4, 5, 8, 4, 2,\n",
              "       6, 0, 9])"
            ]
          },
          "metadata": {},
          "execution_count": 16
        }
      ]
    },
    {
      "cell_type": "code",
      "source": [
        "sorted_vector = np.sort(vector)[::1]\n",
        "sorted_vector"
      ],
      "metadata": {
        "colab": {
          "base_uri": "https://localhost:8080/"
        },
        "id": "pxIC8Q5YRoPY",
        "outputId": "e34f5b53-aa77-47e1-bd94-a7be39da40c2"
      },
      "execution_count": 17,
      "outputs": [
        {
          "output_type": "execute_result",
          "data": {
            "text/plain": [
              "array([0, 0, 2, 2, 2, 3, 3, 3, 4, 4, 4, 4, 4, 5, 5, 5, 6, 6, 7, 7, 7, 7,\n",
              "       8, 8, 9])"
            ]
          },
          "metadata": {},
          "execution_count": 17
        }
      ]
    },
    {
      "cell_type": "markdown",
      "source": [
        "![image.png](data:image/png;base64,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)"
      ],
      "metadata": {
        "id": "Oyvz20NYRqhX"
      }
    },
    {
      "cell_type": "code",
      "source": [
        "import numpy as np\n",
        "\n",
        "a = np.array([\n",
        "    [2, -1,  1],\n",
        "    [3,  4, -2],\n",
        "    [1, -3,  1],\n",
        "])\n",
        "\n",
        "b = np.array([[5], [-3], [4]])"
      ],
      "metadata": {
        "id": "yUq9yZBHR0Bt"
      },
      "execution_count": 26,
      "outputs": []
    },
    {
      "cell_type": "code",
      "source": [
        "det_a = np.linalg.det(a)\n",
        "if det_a == 0:\n",
        "    print(\"Визначник дорівнює нулю — система не має єдиного розв’язку.\")\n",
        "else:\n",
        "    a_inv = np.linalg.inv(a)\n",
        "    print(\"Обернена матриця до матриці A:\")\n",
        "    print(np.round(a_inv, 3))   # округлюємо до 3 знаків після коми\n",
        "\n",
        "    print(\"\\nВектор рішення (матричний метод):\")\n",
        "    print(np.round(a_inv.dot(b), 3))"
      ],
      "metadata": {
        "colab": {
          "base_uri": "https://localhost:8080/"
        },
        "id": "E-QKelQwS0Lx",
        "outputId": "718741f5-8683-40ef-f6be-934d92cec3c0"
      },
      "execution_count": 27,
      "outputs": [
        {
          "output_type": "stream",
          "name": "stdout",
          "text": [
            "Обернена матриця до матриці A:\n",
            "[[ 0.167  0.167  0.167]\n",
            " [ 0.417 -0.083 -0.583]\n",
            " [ 1.083 -0.417 -0.917]]\n",
            "\n",
            "Вектор рішення (матричний метод):\n",
            "[[ 1.]\n",
            " [-0.]\n",
            " [ 3.]]\n"
          ]
        }
      ]
    },
    {
      "cell_type": "code",
      "source": [
        "if det_a == 0:\n",
        "    print(\"Визначник дорівнює нулю — система не має єдиного розв’язку.\")\n",
        "else:\n",
        "    def replace_column(matrix, column_index, new_column):\n",
        "        new_matrix = np.copy(matrix)\n",
        "        new_matrix[:, column_index] = new_column.flatten()\n",
        "        return new_matrix\n",
        "\n",
        "    delta_x = np.linalg.det(replace_column(a, 0, b))\n",
        "    delta_y = np.linalg.det(replace_column(a, 1, b))\n",
        "    delta_z = np.linalg.det(replace_column(a, 2, b))\n",
        "\n",
        "    print(\"\\nМетод Крамера:\")\n",
        "    print(\"x =\", round(delta_x / det_a, 3))\n",
        "    print(\"y =\", round(delta_y / det_a, 3))\n",
        "    print(\"z =\", round(delta_z / det_a, 3))"
      ],
      "metadata": {
        "colab": {
          "base_uri": "https://localhost:8080/"
        },
        "id": "jM9pAp8PTN5z",
        "outputId": "5852e274-7494-42d6-b821-0ee62294a604"
      },
      "execution_count": 28,
      "outputs": [
        {
          "output_type": "stream",
          "name": "stdout",
          "text": [
            "\n",
            "Метод Крамера:\n",
            "x = 1.0\n",
            "y = 0.0\n",
            "z = 3.0\n"
          ]
        }
      ]
    },
    {
      "cell_type": "code",
      "source": [
        "x = np.linalg.solve(a, b)\n",
        "print(np.round(x, 3))"
      ],
      "metadata": {
        "colab": {
          "base_uri": "https://localhost:8080/"
        },
        "id": "Whbi-dBATn0E",
        "outputId": "966daa92-c7cb-4bf0-ae64-c20ecdc68f27"
      },
      "execution_count": 30,
      "outputs": [
        {
          "output_type": "stream",
          "name": "stdout",
          "text": [
            "[[ 1.]\n",
            " [-0.]\n",
            " [ 3.]]\n"
          ]
        }
      ]
    }
  ]
}